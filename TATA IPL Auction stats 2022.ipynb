{
 "cells": [
  {
   "cell_type": "code",
   "execution_count": 68,
   "id": "75d56ab6-422b-4a6f-aa13-e9c4b7e74eea",
   "metadata": {},
   "outputs": [],
   "source": [
    "import requests\n",
    "import pandas as pd\n",
    "from bs4 import BeautifulSoup as bs "
   ]
  },
  {
   "cell_type": "code",
   "execution_count": 69,
   "id": "9ff3df10-f890-411e-a9f5-45c1ac431411",
   "metadata": {},
   "outputs": [],
   "source": [
    "url = 'https://www.iplt20.com/auction/2022'"
   ]
  },
  {
   "cell_type": "code",
   "execution_count": 70,
   "id": "900760b9-90fe-4744-89f3-a6b806cb675b",
   "metadata": {},
   "outputs": [
    {
     "name": "stdout",
     "output_type": "stream",
     "text": [
      "<Response [200]>\n"
     ]
    }
   ],
   "source": [
    "r = requests.get(url)\n",
    "print(r)"
   ]
  },
  {
   "cell_type": "code",
   "execution_count": 71,
   "id": "2bea7cfe-6c0e-40d2-8da4-8d5801f91808",
   "metadata": {},
   "outputs": [],
   "source": [
    "soup = bs(r.text, 'lxml')"
   ]
  },
  {
   "cell_type": "code",
   "execution_count": 72,
   "id": "fcfc5d27-a7b4-4805-a8d2-5dd8b2269d94",
   "metadata": {},
   "outputs": [
    {
     "name": "stdout",
     "output_type": "stream",
     "text": [
      "<table class=\"ih-td-tab auction-tbl\" width=\"100%\">\n",
      "<tr class=\"ih-pt-tbl\" style=\"display:revert\">\n",
      "<th class=\"skip-filter\" style=\"width:25%;text-align: left;\">TEAM</th>\n",
      "<th class=\"skip-filter\" style=\"width:25%;\">FUNDS REMAINING</th>\n",
      "<th class=\"skip-filter\" style=\"width:25%;\">OVERSEAS PLAYERS </th>\n",
      "<th class=\"skip-filter\" style=\"width:25%;\">TOTAL PLAYERS</th>\n",
      "</tr>\n",
      "<tbody id=\"pointsdata\">\n",
      "<tr>\n",
      "<td class=\"ih-t-color\">\n",
      "<div class=\"ih-pt-ic\">\n",
      "<div class=\"ih-pt-img\" style=\"width: 60px\">\n",
      "<img alt=\"\" src=\"https://documents.iplt20.com/ipl/franchises/1644311961_CSKroundbig.png\"/>\n",
      "</div>\n",
      "<h2 class=\"ih-pt-cont\">Chennai Super Kings</h2>\n",
      "</div>\n",
      "</td>\n",
      "<td>₹2,95,00,000</td>\n",
      "<td>8</td>\n",
      "<td>25</td>\n",
      "</tr>\n",
      "<tr>\n",
      "<td class=\"ih-t-color\">\n",
      "<div class=\"ih-pt-ic\">\n",
      "<div class=\"ih-pt-img\" style=\"width: 60px\">\n",
      "<img alt=\"\" src=\"https://documents.iplt20.com/ipl/franchises/1644312373_DCroundbig.png\"/>\n",
      "</div>\n",
      "<h2 class=\"ih-pt-cont\">Delhi Capitals</h2>\n",
      "</div>\n",
      "</td>\n",
      "<td>₹10,00,000</td>\n",
      "<td>7</td>\n",
      "<td>24</td>\n",
      "</tr>\n",
      "<tr>\n",
      "<td class=\"ih-t-color\">\n",
      "<div class=\"ih-pt-ic\">\n",
      "<div class=\"ih-pt-img\" style=\"width: 60px\">\n",
      "<img alt=\"\" src=\"https://documents.iplt20.com/ipl/franchises/1645712208_GTroundbig.png\"/>\n",
      "</div>\n",
      "<h2 class=\"ih-pt-cont\">Gujarat Titans</h2>\n",
      "</div>\n",
      "</td>\n",
      "<td>₹15,00,000</td>\n",
      "<td>8</td>\n",
      "<td>23</td>\n",
      "</tr>\n",
      "<tr>\n",
      "<td class=\"ih-t-color\">\n",
      "<div class=\"ih-pt-ic\">\n",
      "<div class=\"ih-pt-img\" style=\"width: 60px\">\n",
      "<img alt=\"\" src=\"https://documents.iplt20.com/ipl/franchises/1644312095_KKRroundbig.png\"/>\n",
      "</div>\n",
      "<h2 class=\"ih-pt-cont\">Kolkata Knight Riders</h2>\n",
      "</div>\n",
      "</td>\n",
      "<td>₹45,00,000</td>\n",
      "<td>8</td>\n",
      "<td>25</td>\n",
      "</tr>\n",
      "<tr>\n",
      "<td class=\"ih-t-color\">\n",
      "<div class=\"ih-pt-ic\">\n",
      "<div class=\"ih-pt-img\" style=\"width: 60px\">\n",
      "<img alt=\"\" src=\"https://documents.iplt20.com/ipl/franchises/1644487352_lsgrounding.png\"/>\n",
      "</div>\n",
      "<h2 class=\"ih-pt-cont\">Lucknow Super Giants</h2>\n",
      "</div>\n",
      "</td>\n",
      "<td>₹0</td>\n",
      "<td>7</td>\n",
      "<td>21</td>\n",
      "</tr>\n",
      "<tr>\n",
      "<td class=\"ih-t-color\">\n",
      "<div class=\"ih-pt-ic\">\n",
      "<div class=\"ih-pt-img\" style=\"width: 60px\">\n",
      "<img alt=\"\" src=\"https://documents.iplt20.com/ipl/franchises/1644312227_MIroundbig.png\"/>\n",
      "</div>\n",
      "<h2 class=\"ih-pt-cont\">Mumbai Indians</h2>\n",
      "</div>\n",
      "</td>\n",
      "<td>₹10,00,000</td>\n",
      "<td>8</td>\n",
      "<td>25</td>\n",
      "</tr>\n",
      "<tr>\n",
      "<td class=\"ih-t-color\">\n",
      "<div class=\"ih-pt-ic\">\n",
      "<div class=\"ih-pt-img\" style=\"width: 60px\">\n",
      "<img alt=\"\" src=\"https://documents.iplt20.com/ipl/franchises/1644312239_PBKSroundbig.png\"/>\n",
      "</div>\n",
      "<h2 class=\"ih-pt-cont\">Punjab Kings</h2>\n",
      "</div>\n",
      "</td>\n",
      "<td>₹3,45,00,000</td>\n",
      "<td>7</td>\n",
      "<td>25</td>\n",
      "</tr>\n",
      "<tr>\n",
      "<td class=\"ih-t-color\">\n",
      "<div class=\"ih-pt-ic\">\n",
      "<div class=\"ih-pt-img\" style=\"width: 60px\">\n",
      "<img alt=\"\" src=\"https://documents.iplt20.com/ipl/franchises/1644312268_RRroundbig.png\"/>\n",
      "</div>\n",
      "<h2 class=\"ih-pt-cont\">Rajasthan Royals</h2>\n",
      "</div>\n",
      "</td>\n",
      "<td>₹95,00,000</td>\n",
      "<td>8</td>\n",
      "<td>24</td>\n",
      "</tr>\n",
      "<tr>\n",
      "<td class=\"ih-t-color\">\n",
      "<div class=\"ih-pt-ic\">\n",
      "<div class=\"ih-pt-img\" style=\"width: 60px\">\n",
      "<img alt=\"\" src=\"https://documents.iplt20.com/ipl/franchises/1644312253_RCBroundbig.png\"/>\n",
      "</div>\n",
      "<h2 class=\"ih-pt-cont\">Royal Challengers Bangalore</h2>\n",
      "</div>\n",
      "</td>\n",
      "<td>₹1,55,00,000</td>\n",
      "<td>8</td>\n",
      "<td>22</td>\n",
      "</tr>\n",
      "<tr>\n",
      "<td class=\"ih-t-color\">\n",
      "<div class=\"ih-pt-ic\">\n",
      "<div class=\"ih-pt-img\" style=\"width: 60px\">\n",
      "<img alt=\"\" src=\"https://documents.iplt20.com/ipl/franchises/1644312281_SRHroundbig.png\"/>\n",
      "</div>\n",
      "<h2 class=\"ih-pt-cont\">Sunrisers Hyderabad</h2>\n",
      "</div>\n",
      "</td>\n",
      "<td>₹10,00,000</td>\n",
      "<td>8</td>\n",
      "<td>23</td>\n",
      "</tr>\n",
      "</tbody>\n",
      "</table>\n"
     ]
    }
   ],
   "source": [
    "table = soup.find('table',class_ = \"ih-td-tab auction-tbl\")\n",
    "print(table)"
   ]
  },
  {
   "cell_type": "code",
   "execution_count": 73,
   "id": "a4649973-efe0-4641-bc98-49c91bc04647",
   "metadata": {},
   "outputs": [],
   "source": [
    "header = table.find_all('th')\n",
    "titles = []"
   ]
  },
  {
   "cell_type": "code",
   "execution_count": 74,
   "id": "d645902d-91c2-4061-b9b7-409d6f6677f8",
   "metadata": {},
   "outputs": [
    {
     "name": "stdout",
     "output_type": "stream",
     "text": [
      "['TEAM', 'FUNDS REMAINING', 'OVERSEAS PLAYERS', 'TOTAL PLAYERS']\n"
     ]
    }
   ],
   "source": [
    "header = table.find_all('th')\n",
    "titles = [i.text.strip() for i in header]  # Strip any extra spaces from the header titles\n",
    "print(titles)"
   ]
  },
  {
   "cell_type": "code",
   "execution_count": 75,
   "id": "3b46d6a2-e41f-416f-8ec7-50cda455ee72",
   "metadata": {},
   "outputs": [
    {
     "name": "stdout",
     "output_type": "stream",
     "text": [
      "                          TEAM FUNDS REMAINING OVERSEAS PLAYERS TOTAL PLAYERS\n",
      "0          Chennai Super Kings    ₹2,95,00,000                8            25\n",
      "1               Delhi Capitals      ₹10,00,000                7            24\n",
      "2               Gujarat Titans      ₹15,00,000                8            23\n",
      "3        Kolkata Knight Riders      ₹45,00,000                8            25\n",
      "4         Lucknow Super Giants              ₹0                7            21\n",
      "5               Mumbai Indians      ₹10,00,000                8            25\n",
      "6                 Punjab Kings    ₹3,45,00,000                7            25\n",
      "7             Rajasthan Royals      ₹95,00,000                8            24\n",
      "8  Royal Challengers Bangalore    ₹1,55,00,000                8            22\n",
      "9          Sunrisers Hyderabad      ₹10,00,000                8            23\n"
     ]
    }
   ],
   "source": [
    "df = pd.DataFrame(columns=titles)\n",
    "\n",
    "# Extract all the rows of the table\n",
    "rows = table.find_all('tr')\n",
    "\n",
    "# Loop through the rows starting from the second one (skipping the header row)\n",
    "for i in rows[1:]:\n",
    "    first_td = i.find_all('td')[0].find('div', class_='ih-pt-ic')\n",
    "\n",
    "    # Check if the div with the class is found\n",
    "    if first_td is not None:\n",
    "        first_td_text = first_td.text.strip()  # Extract and clean the text\n",
    "    else:\n",
    "        first_td_text = \"\"  # Set a default value if the div is not found\n",
    "\n",
    "    # Get all the remaining 'td' elements in the row\n",
    "    data = i.find_all('td')[1:]  \n",
    "    row = [tr.text.strip() for tr in data]  # Clean and extract the text for each cell\n",
    "    row.insert(0, first_td_text)  # Insert the first_td_text at the beginning of the row\n",
    "\n",
    "    # Append the row to the dataframe\n",
    "    l = len(df)\n",
    "    df.loc[l] = row\n",
    "\n",
    "# Show the dataframe\n",
    "print(df)"
   ]
  },
  {
   "cell_type": "code",
   "execution_count": 76,
   "id": "30d313ba-2874-49aa-acf8-abdeab959250",
   "metadata": {},
   "outputs": [],
   "source": [
    "\n",
    "df.to_csv('IPL_Auction_stats_2022_05.csv')"
   ]
  },
  {
   "cell_type": "code",
   "execution_count": null,
   "id": "c634b9a3-0015-4104-a0b9-cfa455773f68",
   "metadata": {},
   "outputs": [],
   "source": []
  }
 ],
 "metadata": {
  "kernelspec": {
   "display_name": "Python 3 (ipykernel)",
   "language": "python",
   "name": "python3"
  },
  "language_info": {
   "codemirror_mode": {
    "name": "ipython",
    "version": 3
   },
   "file_extension": ".py",
   "mimetype": "text/x-python",
   "name": "python",
   "nbconvert_exporter": "python",
   "pygments_lexer": "ipython3",
   "version": "3.12.3"
  }
 },
 "nbformat": 4,
 "nbformat_minor": 5
}
